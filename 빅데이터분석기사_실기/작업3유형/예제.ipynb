{
 "cells": [
  {
   "cell_type": "code",
   "execution_count": null,
   "metadata": {},
   "outputs": [],
   "source": [
    "\n",
    "import pandas as pd\n",
    "df = pd.read_csv('data/blood_pressure.csv', index_col=0)\n",
    "\n",
    "# 사용자 코딩\n",
    "# 치료 전 후 차이\n",
    "df['diff'] = df['bp_after'] - df['bp_before'] \n",
    "\n",
    "# 1. Md의 표본평균\n",
    "print(round(df['diff'].mean(),2)) # -5.09\n",
    "\n",
    "# 2. 검정통계량\n",
    "# 대응 t 검정\n",
    "from scipy import stats\n",
    "# help('scipy.stats')\n",
    "result = stats.ttest_rel(df['bp_after'], df['bp_before'], alternative='less')\n",
    "print(round(result.statistic,2)) # -3.34\n",
    "\n",
    "# 3. p=값, 결과\n",
    "print(round(result.pvalue,4)) # 0.0006\n",
    "# 작으면 기각 -> 기각"
   ]
  }
 ],
 "metadata": {
  "language_info": {
   "name": "python"
  },
  "orig_nbformat": 4
 },
 "nbformat": 4,
 "nbformat_minor": 2
}
