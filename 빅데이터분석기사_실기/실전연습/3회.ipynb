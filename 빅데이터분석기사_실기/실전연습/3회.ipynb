{
 "cells": [
  {
   "attachments": {},
   "cell_type": "markdown",
   "metadata": {},
   "source": [
    "작업유형 1"
   ]
  },
  {
   "cell_type": "code",
   "execution_count": null,
   "metadata": {},
   "outputs": [],
   "source": [
    "import pandas as pd\n",
    "a = pd.read_csv('data/mtcars.csv', index_col=0)\n",
    "\n",
    "# 풀이\n",
    "from sklearn.preprocessing import MinMaxScaler\n",
    "scaler = ['qsec']\n",
    "m = MinMaxScaler()\n",
    "m.fit(a[scaler])\n",
    "a['qsec'] = m.transform(a[scaler])\n",
    "print(len(a[a['qsec'] > 0.5]))\n",
    "\n"
   ]
  },
  {
   "attachments": {},
   "cell_type": "markdown",
   "metadata": {},
   "source": [
    "작업유형 2"
   ]
  },
  {
   "cell_type": "code",
   "execution_count": null,
   "metadata": {},
   "outputs": [],
   "source": [
    "# 전처리\n",
    "# 데이터 파일 읽기 예제\n",
    "import pandas as pd\n",
    "# 고객의 상품구매 속성 데이터\n",
    "X_test = pd.read_csv(\"data/X_test.csv\")\n",
    "X_train = pd.read_csv(\"data/X_train.csv\")\n",
    "# 고객 성별 데이터\n",
    "y_train = pd.read_csv(\"data/y_train.csv\")\n",
    "\n",
    "# 사용자 코딩\n",
    "# 1. 결측치\n",
    "# print(X_train.isna().sum()) # 환불금액 결측치 존재\n",
    "# print(X_test.isna().sum())\n",
    "# print(X_train['환불금액'].describe())\n",
    "# 0으로 채우기\n",
    "X_train['환불금액'] = X_train['환불금액'].fillna(0)\n",
    "X_test['환불금액'] = X_test['환불금액'].fillna(0)\n",
    "\n",
    "# 2. 라벨인코더\n",
    "from sklearn.preprocessing import LabelEncoder\n",
    "label = ['주구매상품','주구매지점']\n",
    "X_train[label] = X_train[label].apply(LabelEncoder().fit_transform)\n",
    "X_test[label] = X_test[label].apply(LabelEncoder().fit_transform)\n",
    "\n",
    "# print(X_train['주구매상품'].value_counts()) # 너무 많음\n",
    "# print(X_train['주구매지점'].value_counts())\n",
    "\n",
    "# 3. 타입변환,더미\n",
    "# 주구매지점만 해보기\n",
    "X_train['주구매지점'] = X_train['주구매지점'].astype('category')\n",
    "X_test['주구매지점'] = X_test['주구매지점'].astype('category')\n",
    "X_train = pd.get_dummies(X_train)\n",
    "X_test = pd.get_dummies(X_test)\n",
    "\n",
    "# 4. 파생변수\n",
    "# 총구매액\n",
    "X_train['총구매액_qcut'] = pd.qcut(X_train['총구매액'],5,labels=False)\n",
    "X_test['총구매액_qcut'] = pd.qcut(X_test['총구매액'],5,labels=False)\n",
    "\n",
    "# 5. 스케일\n",
    "from sklearn.preprocessing import MinMaxScaler\n",
    "scaler = ['총구매액','최대구매액','환불금액','내점일수','내점당구매건수','주말방문비율','구매주기']\n",
    "m = MinMaxScaler()\n",
    "m.fit(X_train[scaler])\n",
    "X_train[scaler] = m.transform(X_train[scaler])\n",
    "X_test[scaler] = m.transform(X_test[scaler])\n",
    "\n",
    "# 6. 데이터 분리\n",
    "from sklearn.model_selection import train_test_split\n",
    "X_train,X_valid,y_train,y_vaild = train_test_split(X_train,y_train['gender'],test_size=0.2,random_state=42,stratify=y_train['gender'])\n",
    "\n",
    "# print(X_train.shape)\n",
    "# print(X_valid.shape)"
   ]
  },
  {
   "cell_type": "code",
   "execution_count": null,
   "metadata": {},
   "outputs": [],
   "source": [
    "# 7. 모형 학습, 앙상블\n",
    "from sklearn.linear_model import LogisticRegression\n",
    "model1 = LogisticRegression()\n",
    "model1.fit(X_train,y_train)\n",
    "pred1 = pd.DataFrame(model1.predict_proba(X_valid))\n",
    "\n",
    "from sklearn.ensemble import RandomForestClassifier\n",
    "model2 = RandomForestClassifier()\n",
    "model2.fit(X_train,y_train)\n",
    "pred2 = pd.DataFrame(model2.predict_proba(X_valid))\n",
    "\n",
    "from sklearn.ensemble import VotingClassifier\n",
    "model3 = VotingClassifier(estimators=[('lr',model1),('rc',model2)],voting='soft')\n",
    "model3.fit(X_train,y_train)\n",
    "pred3 = pd.DataFrame(model3.predict_proba(X_valid))\n",
    "\n",
    "# 8. 평가\n",
    "from sklearn.metrics import roc_auc_score\n",
    "# print(roc_auc_score(y_valid,pred1.iloc[:,1]))\n",
    "# print(roc_auc_score(y_valid,pred2.iloc[:,1]))\n",
    "# print(roc_auc_score(y_valid,pred3.iloc[:,1]))\n",
    "\n",
    "\n",
    "# 답안 제출 참고\n",
    "# 아래 코드 예측변수와 수험번호를 개인별로 변경하여 활용\n",
    "result = pd.DataFrame(model3.predict_proba(X_test))\n",
    "result = result.iloc[:,1]\n",
    "\n",
    "pd.DataFrame({'cust_id': X_test.cust_id, 'gender': result}).to_csv('003000000.csv', index=False)"
   ]
  }
 ],
 "metadata": {
  "language_info": {
   "name": "python"
  },
  "orig_nbformat": 4
 },
 "nbformat": 4,
 "nbformat_minor": 2
}
