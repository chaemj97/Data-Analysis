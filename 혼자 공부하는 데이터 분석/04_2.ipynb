{
  "cells": [
    {
      "cell_type": "markdown",
      "id": "4ecbe13b",
      "metadata": {
        "id": "4ecbe13b"
      },
      "source": [
        "# 04-2 분포 요약하기"
      ]
    },
    {
      "cell_type": "markdown",
      "id": "207f69cc",
      "metadata": {
        "id": "207f69cc"
      },
      "source": [
        "<table class=\"tfo-notebook-buttons\" align=\"left\">\n",
        "  <td>\n",
        "    <a target=\"_blank\" href=\"https://nbviewer.jupyter.org/github/rickiepark/hg-da/blob/main/04-2.ipynb\"><img src=\"https://jupyter.org/assets/share.png\" width=\"61\" />주피터 노트북 뷰어로 보기</a>\n",
        "  </td>\n",
        "  <td>\n",
        "    <a target=\"_blank\" href=\"https://colab.research.google.com/github/rickiepark/hg-da/blob/main/04-2.ipynb\"><img src=\"https://www.tensorflow.org/images/colab_logo_32px.png\" />구글 코랩(Colab)에서 실행하기</a>\n",
        "  </td>\n",
        "</table>"
      ]
    },
    {
      "cell_type": "code",
      "execution_count": 1,
      "id": "8av-fxbSjfRb",
      "metadata": {
        "id": "8av-fxbSjfRb",
        "outputId": "bf49dd92-c86a-46c7-aac4-380aa09c6903",
        "colab": {
          "base_uri": "https://localhost:8080/"
        }
      },
      "outputs": [
        {
          "output_type": "stream",
          "name": "stdout",
          "text": [
            "Looking in indexes: https://pypi.org/simple, https://us-python.pkg.dev/colab-wheels/public/simple/\n",
            "Requirement already satisfied: matplotlib in /usr/local/lib/python3.9/dist-packages (3.7.1)\n",
            "Requirement already satisfied: kiwisolver>=1.0.1 in /usr/local/lib/python3.9/dist-packages (from matplotlib) (1.4.4)\n",
            "Requirement already satisfied: fonttools>=4.22.0 in /usr/local/lib/python3.9/dist-packages (from matplotlib) (4.39.2)\n",
            "Requirement already satisfied: pillow>=6.2.0 in /usr/local/lib/python3.9/dist-packages (from matplotlib) (8.4.0)\n",
            "Requirement already satisfied: python-dateutil>=2.7 in /usr/local/lib/python3.9/dist-packages (from matplotlib) (2.8.2)\n",
            "Requirement already satisfied: contourpy>=1.0.1 in /usr/local/lib/python3.9/dist-packages (from matplotlib) (1.0.7)\n",
            "Requirement already satisfied: importlib-resources>=3.2.0 in /usr/local/lib/python3.9/dist-packages (from matplotlib) (5.12.0)\n",
            "Requirement already satisfied: numpy>=1.20 in /usr/local/lib/python3.9/dist-packages (from matplotlib) (1.22.4)\n",
            "Requirement already satisfied: cycler>=0.10 in /usr/local/lib/python3.9/dist-packages (from matplotlib) (0.11.0)\n",
            "Requirement already satisfied: packaging>=20.0 in /usr/local/lib/python3.9/dist-packages (from matplotlib) (23.0)\n",
            "Requirement already satisfied: pyparsing>=2.3.1 in /usr/local/lib/python3.9/dist-packages (from matplotlib) (3.0.9)\n",
            "Requirement already satisfied: zipp>=3.1.0 in /usr/local/lib/python3.9/dist-packages (from importlib-resources>=3.2.0->matplotlib) (3.15.0)\n",
            "Requirement already satisfied: six>=1.5 in /usr/local/lib/python3.9/dist-packages (from python-dateutil>=2.7->matplotlib) (1.16.0)\n"
          ]
        }
      ],
      "source": [
        "# 맷플롯립 3.2.2 버전에서 상자 수염 그림을 그리는데 버그가 있습니다\n",
        "# 코랩을 사용하시는 경우 matplotlib을 최신 버전으로 업데이트해 주세요.\n",
        "!pip install -U matplotlib"
      ]
    },
    {
      "cell_type": "markdown",
      "id": "35c42ea1",
      "metadata": {
        "id": "35c42ea1"
      },
      "source": [
        "## 산점도 그리기"
      ]
    },
    {
      "cell_type": "code",
      "execution_count": 2,
      "id": "a96e334c",
      "metadata": {
        "colab": {
          "base_uri": "https://localhost:8080/",
          "height": 108
        },
        "id": "a96e334c",
        "outputId": "8b0e17d6-fadc-4dbb-b3a8-a3967a4ae362"
      },
      "outputs": [
        {
          "output_type": "stream",
          "name": "stderr",
          "text": [
            "Downloading...\n",
            "From: https://bit.ly/3pK7iuu\n",
            "To: /content/ns_book7.csv\n",
            "100%|██████████| 53.8M/53.8M [00:00<00:00, 94.6MB/s]\n"
          ]
        },
        {
          "output_type": "execute_result",
          "data": {
            "text/plain": [
              "'ns_book7.csv'"
            ],
            "application/vnd.google.colaboratory.intrinsic+json": {
              "type": "string"
            }
          },
          "metadata": {},
          "execution_count": 2
        }
      ],
      "source": [
        "import gdown\n",
        "\n",
        "gdown.download('https://bit.ly/3pK7iuu', 'ns_book7.csv', quiet=False)"
      ]
    },
    {
      "cell_type": "code",
      "execution_count": 3,
      "id": "0b717c48",
      "metadata": {
        "colab": {
          "base_uri": "https://localhost:8080/",
          "height": 354
        },
        "id": "0b717c48",
        "outputId": "8d8893c9-cd11-45be-bd61-e8391a3792c1"
      },
      "outputs": [
        {
          "output_type": "execute_result",
          "data": {
            "text/plain": [
              "   번호                    도서명                저자    출판사  발행년도           ISBN  \\\n",
              "0   1                인공지능과 흙            김동훈 지음    민음사  2021  9788937444319   \n",
              "1   2           가짜 행복 권하는 사회            김태형 지음   갈매나무  2021  9791190123969   \n",
              "2   3  나도 한 문장 잘 쓰면 바랄 게 없겠네            김선영 지음   블랙피쉬  2021  9788968332982   \n",
              "3   4                예루살렘 해변  이도 게펜 지음, 임재희 옮김  문학세계사  2021  9788970759906   \n",
              "4   5  김성곤의 중국한시기행 : 장강·황하 편            김성곤 지음    김영사  2021  9788934990833   \n",
              "\n",
              "  세트 ISBN 부가기호    권 주제분류번호  도서권수  대출건수        등록일자  \n",
              "0     NaN  NaN  NaN    NaN     1     0  2021-03-19  \n",
              "1     NaN  NaN  NaN    NaN     1     0  2021-03-19  \n",
              "2     NaN  NaN  NaN    NaN     1     0  2021-03-19  \n",
              "3     NaN  NaN  NaN    NaN     1     0  2021-03-19  \n",
              "4     NaN  NaN  NaN    NaN     1     0  2021-03-19  "
            ],
            "text/html": [
              "\n",
              "  <div id=\"df-a01fa208-2190-49de-8d7d-5604736fc17d\">\n",
              "    <div class=\"colab-df-container\">\n",
              "      <div>\n",
              "<style scoped>\n",
              "    .dataframe tbody tr th:only-of-type {\n",
              "        vertical-align: middle;\n",
              "    }\n",
              "\n",
              "    .dataframe tbody tr th {\n",
              "        vertical-align: top;\n",
              "    }\n",
              "\n",
              "    .dataframe thead th {\n",
              "        text-align: right;\n",
              "    }\n",
              "</style>\n",
              "<table border=\"1\" class=\"dataframe\">\n",
              "  <thead>\n",
              "    <tr style=\"text-align: right;\">\n",
              "      <th></th>\n",
              "      <th>번호</th>\n",
              "      <th>도서명</th>\n",
              "      <th>저자</th>\n",
              "      <th>출판사</th>\n",
              "      <th>발행년도</th>\n",
              "      <th>ISBN</th>\n",
              "      <th>세트 ISBN</th>\n",
              "      <th>부가기호</th>\n",
              "      <th>권</th>\n",
              "      <th>주제분류번호</th>\n",
              "      <th>도서권수</th>\n",
              "      <th>대출건수</th>\n",
              "      <th>등록일자</th>\n",
              "    </tr>\n",
              "  </thead>\n",
              "  <tbody>\n",
              "    <tr>\n",
              "      <th>0</th>\n",
              "      <td>1</td>\n",
              "      <td>인공지능과 흙</td>\n",
              "      <td>김동훈 지음</td>\n",
              "      <td>민음사</td>\n",
              "      <td>2021</td>\n",
              "      <td>9788937444319</td>\n",
              "      <td>NaN</td>\n",
              "      <td>NaN</td>\n",
              "      <td>NaN</td>\n",
              "      <td>NaN</td>\n",
              "      <td>1</td>\n",
              "      <td>0</td>\n",
              "      <td>2021-03-19</td>\n",
              "    </tr>\n",
              "    <tr>\n",
              "      <th>1</th>\n",
              "      <td>2</td>\n",
              "      <td>가짜 행복 권하는 사회</td>\n",
              "      <td>김태형 지음</td>\n",
              "      <td>갈매나무</td>\n",
              "      <td>2021</td>\n",
              "      <td>9791190123969</td>\n",
              "      <td>NaN</td>\n",
              "      <td>NaN</td>\n",
              "      <td>NaN</td>\n",
              "      <td>NaN</td>\n",
              "      <td>1</td>\n",
              "      <td>0</td>\n",
              "      <td>2021-03-19</td>\n",
              "    </tr>\n",
              "    <tr>\n",
              "      <th>2</th>\n",
              "      <td>3</td>\n",
              "      <td>나도 한 문장 잘 쓰면 바랄 게 없겠네</td>\n",
              "      <td>김선영 지음</td>\n",
              "      <td>블랙피쉬</td>\n",
              "      <td>2021</td>\n",
              "      <td>9788968332982</td>\n",
              "      <td>NaN</td>\n",
              "      <td>NaN</td>\n",
              "      <td>NaN</td>\n",
              "      <td>NaN</td>\n",
              "      <td>1</td>\n",
              "      <td>0</td>\n",
              "      <td>2021-03-19</td>\n",
              "    </tr>\n",
              "    <tr>\n",
              "      <th>3</th>\n",
              "      <td>4</td>\n",
              "      <td>예루살렘 해변</td>\n",
              "      <td>이도 게펜 지음, 임재희 옮김</td>\n",
              "      <td>문학세계사</td>\n",
              "      <td>2021</td>\n",
              "      <td>9788970759906</td>\n",
              "      <td>NaN</td>\n",
              "      <td>NaN</td>\n",
              "      <td>NaN</td>\n",
              "      <td>NaN</td>\n",
              "      <td>1</td>\n",
              "      <td>0</td>\n",
              "      <td>2021-03-19</td>\n",
              "    </tr>\n",
              "    <tr>\n",
              "      <th>4</th>\n",
              "      <td>5</td>\n",
              "      <td>김성곤의 중국한시기행 : 장강·황하 편</td>\n",
              "      <td>김성곤 지음</td>\n",
              "      <td>김영사</td>\n",
              "      <td>2021</td>\n",
              "      <td>9788934990833</td>\n",
              "      <td>NaN</td>\n",
              "      <td>NaN</td>\n",
              "      <td>NaN</td>\n",
              "      <td>NaN</td>\n",
              "      <td>1</td>\n",
              "      <td>0</td>\n",
              "      <td>2021-03-19</td>\n",
              "    </tr>\n",
              "  </tbody>\n",
              "</table>\n",
              "</div>\n",
              "      <button class=\"colab-df-convert\" onclick=\"convertToInteractive('df-a01fa208-2190-49de-8d7d-5604736fc17d')\"\n",
              "              title=\"Convert this dataframe to an interactive table.\"\n",
              "              style=\"display:none;\">\n",
              "        \n",
              "  <svg xmlns=\"http://www.w3.org/2000/svg\" height=\"24px\"viewBox=\"0 0 24 24\"\n",
              "       width=\"24px\">\n",
              "    <path d=\"M0 0h24v24H0V0z\" fill=\"none\"/>\n",
              "    <path d=\"M18.56 5.44l.94 2.06.94-2.06 2.06-.94-2.06-.94-.94-2.06-.94 2.06-2.06.94zm-11 1L8.5 8.5l.94-2.06 2.06-.94-2.06-.94L8.5 2.5l-.94 2.06-2.06.94zm10 10l.94 2.06.94-2.06 2.06-.94-2.06-.94-.94-2.06-.94 2.06-2.06.94z\"/><path d=\"M17.41 7.96l-1.37-1.37c-.4-.4-.92-.59-1.43-.59-.52 0-1.04.2-1.43.59L10.3 9.45l-7.72 7.72c-.78.78-.78 2.05 0 2.83L4 21.41c.39.39.9.59 1.41.59.51 0 1.02-.2 1.41-.59l7.78-7.78 2.81-2.81c.8-.78.8-2.07 0-2.86zM5.41 20L4 18.59l7.72-7.72 1.47 1.35L5.41 20z\"/>\n",
              "  </svg>\n",
              "      </button>\n",
              "      \n",
              "  <style>\n",
              "    .colab-df-container {\n",
              "      display:flex;\n",
              "      flex-wrap:wrap;\n",
              "      gap: 12px;\n",
              "    }\n",
              "\n",
              "    .colab-df-convert {\n",
              "      background-color: #E8F0FE;\n",
              "      border: none;\n",
              "      border-radius: 50%;\n",
              "      cursor: pointer;\n",
              "      display: none;\n",
              "      fill: #1967D2;\n",
              "      height: 32px;\n",
              "      padding: 0 0 0 0;\n",
              "      width: 32px;\n",
              "    }\n",
              "\n",
              "    .colab-df-convert:hover {\n",
              "      background-color: #E2EBFA;\n",
              "      box-shadow: 0px 1px 2px rgba(60, 64, 67, 0.3), 0px 1px 3px 1px rgba(60, 64, 67, 0.15);\n",
              "      fill: #174EA6;\n",
              "    }\n",
              "\n",
              "    [theme=dark] .colab-df-convert {\n",
              "      background-color: #3B4455;\n",
              "      fill: #D2E3FC;\n",
              "    }\n",
              "\n",
              "    [theme=dark] .colab-df-convert:hover {\n",
              "      background-color: #434B5C;\n",
              "      box-shadow: 0px 1px 3px 1px rgba(0, 0, 0, 0.15);\n",
              "      filter: drop-shadow(0px 1px 2px rgba(0, 0, 0, 0.3));\n",
              "      fill: #FFFFFF;\n",
              "    }\n",
              "  </style>\n",
              "\n",
              "      <script>\n",
              "        const buttonEl =\n",
              "          document.querySelector('#df-a01fa208-2190-49de-8d7d-5604736fc17d button.colab-df-convert');\n",
              "        buttonEl.style.display =\n",
              "          google.colab.kernel.accessAllowed ? 'block' : 'none';\n",
              "\n",
              "        async function convertToInteractive(key) {\n",
              "          const element = document.querySelector('#df-a01fa208-2190-49de-8d7d-5604736fc17d');\n",
              "          const dataTable =\n",
              "            await google.colab.kernel.invokeFunction('convertToInteractive',\n",
              "                                                     [key], {});\n",
              "          if (!dataTable) return;\n",
              "\n",
              "          const docLinkHtml = 'Like what you see? Visit the ' +\n",
              "            '<a target=\"_blank\" href=https://colab.research.google.com/notebooks/data_table.ipynb>data table notebook</a>'\n",
              "            + ' to learn more about interactive tables.';\n",
              "          element.innerHTML = '';\n",
              "          dataTable['output_type'] = 'display_data';\n",
              "          await google.colab.output.renderOutput(dataTable, element);\n",
              "          const docLink = document.createElement('div');\n",
              "          docLink.innerHTML = docLinkHtml;\n",
              "          element.appendChild(docLink);\n",
              "        }\n",
              "      </script>\n",
              "    </div>\n",
              "  </div>\n",
              "  "
            ]
          },
          "metadata": {},
          "execution_count": 3
        }
      ],
      "source": [
        "import pandas as pd\n",
        "\n",
        "ns_book7 = pd.read_csv('ns_book7.csv', low_memory=False)\n",
        "ns_book7.head()"
      ]
    },
    {
      "cell_type": "code",
      "execution_count": 4,
      "id": "e1b02994",
      "metadata": {
        "colab": {
          "base_uri": "https://localhost:8080/",
          "height": 265
        },
        "id": "e1b02994",
        "outputId": "4ce55874-0bee-4683-af6a-7d1a3958a6f3"
      },
      "outputs": [
        {
          "output_type": "display_data",
          "data": {
            "text/plain": [
              "<Figure size 432x288 with 1 Axes>"
            ],
            "image/png": "[encoded data removed]"
          },
          "metadata": {
            "needs_background": "light"
          }
        }
      ],
      "source": [
        "import matplotlib.pyplot as plt\n",
        "\n",
        "plt.scatter([1,2,3,4], [1,2,3,4])\n",
        "plt.show()"
      ]
    },
    {
      "cell_type": "code",
      "execution_count": 5,
      "id": "a5807dbe",
      "metadata": {
        "colab": {
          "base_uri": "https://localhost:8080/",
          "height": 265
        },
        "id": "a5807dbe",
        "outputId": "f9305f53-f13d-418a-82d2-e15058bf724f"
      },
      "outputs": [
        {
          "output_type": "display_data",
          "data": {
            "text/plain": [
              "<Figure size 432x288 with 1 Axes>"
            ],
            "image/png": "[encoded data removed]"
          },
          "metadata": {
            "needs_background": "light"
          }
        }
      ],
      "source": [
        "plt.scatter(ns_book7['번호'], ns_book7['대출건수'])\n",
        "plt.show()"
      ]
    },
    {
      "cell_type": "code",
      "execution_count": 6,
      "id": "1ad18421",
      "metadata": {
        "colab": {
          "base_uri": "https://localhost:8080/",
          "height": 265
        },
        "id": "1ad18421",
        "outputId": "77ae6be6-975b-4d9c-b4a7-5a09c6c9f3dc"
      },
      "outputs": [
        {
          "output_type": "display_data",
          "data": {
            "text/plain": [
              "<Figure size 432x288 with 1 Axes>"
            ],
            "image/png": "[encoded data removed]"
          },
          "metadata": {
            "needs_background": "light"
          }
        }
      ],
      "source": [
        "plt.scatter(ns_book7['도서권수'], ns_book7['대출건수'])\n",
        "plt.show()"
      ]
    },
    {
      "cell_type": "code",
      "execution_count": 7,
      "id": "9d3a6c6b",
      "metadata": {
        "colab": {
          "base_uri": "https://localhost:8080/",
          "height": 265
        },
        "id": "9d3a6c6b",
        "outputId": "40792d9f-2516-4b6f-dad7-5a90de66a008",
        "scrolled": true
      },
      "outputs": [
        {
          "output_type": "display_data",
          "data": {
            "text/plain": [
              "<Figure size 432x288 with 1 Axes>"
            ],
            "image/png": "[encoded data removed]"
          },
          "metadata": {
            "needs_background": "light"
          }
        }
      ],
      "source": [
        "plt.scatter(ns_book7['도서권수'], ns_book7['대출건수'], alpha=0.1)\n",
        "plt.show()"
      ]
    },
    {
      "cell_type": "code",
      "execution_count": 8,
      "id": "d5cdff00",
      "metadata": {
        "colab": {
          "base_uri": "https://localhost:8080/",
          "height": 265
        },
        "id": "d5cdff00",
        "outputId": "bf45eb67-388b-4e8a-bd3a-453e011fe809"
      },
      "outputs": [
        {
          "output_type": "display_data",
          "data": {
            "text/plain": [
              "<Figure size 432x288 with 1 Axes>"
            ],
            "image/png": "[encoded data removed]"
          },
          "metadata": {
            "needs_background": "light"
          }
        }
      ],
      "source": [
        "average_borrows = ns_book7['대출건수']/ns_book7['도서권수']\n",
        "plt.scatter(average_borrows, ns_book7['대출건수'], alpha=0.1)\n",
        "plt.show()"
      ]
    },
    {
      "cell_type": "markdown",
      "id": "3c49cc4b",
      "metadata": {
        "id": "3c49cc4b"
      },
      "source": [
        "## 히스토그램 그리기"
      ]
    },
    {
      "cell_type": "code",
      "execution_count": 9,
      "id": "c98d2d49",
      "metadata": {
        "colab": {
          "base_uri": "https://localhost:8080/",
          "height": 265
        },
        "id": "c98d2d49",
        "outputId": "c5e08c0b-446e-4a24-c348-4810f2eb7909"
      },
      "outputs": [
        {
          "output_type": "display_data",
          "data": {
            "text/plain": [
              "<Figure size 432x288 with 1 Axes>"
            ],
            "image/png": "[encoded data removed]"
          },
          "metadata": {
            "needs_background": "light"
          }
        }
      ],
      "source": [
        "plt.hist([0,3,5,6,7,7,9,13], bins=5)\n",
        "plt.show()"
      ]
    },
    {
      "cell_type": "code",
      "execution_count": 10,
      "id": "c56ff857",
      "metadata": {
        "colab": {
          "base_uri": "https://localhost:8080/"
        },
        "id": "c56ff857",
        "outputId": "339a4eaa-ed80-4910-ab28-d0a6f0a7b7bc"
      },
      "outputs": [
        {
          "output_type": "execute_result",
          "data": {
            "text/plain": [
              "array([ 0. ,  2.6,  5.2,  7.8, 10.4, 13. ])"
            ]
          },
          "metadata": {},
          "execution_count": 10
        }
      ],
      "source": [
        "import numpy as np\n",
        "\n",
        "np.histogram_bin_edges([0,3,5,6,7,7,9,13], bins=5)"
      ]
    },
    {
      "cell_type": "code",
      "execution_count": 12,
      "id": "fb942b43",
      "metadata": {
        "id": "fb942b43",
        "outputId": "d2ca6a0a-598e-4fc6-baa8-6e474f246a9d",
        "colab": {
          "base_uri": "https://localhost:8080/"
        }
      },
      "outputs": [
        {
          "output_type": "execute_result",
          "data": {
            "text/plain": [
              "array([ 4.96714153e-01, -1.38264301e-01,  6.47688538e-01,  1.52302986e+00,\n",
              "       -2.34153375e-01, -2.34136957e-01,  1.57921282e+00,  7.67434729e-01,\n",
              "       -4.69474386e-01,  5.42560044e-01, -4.63417693e-01, -4.65729754e-01,\n",
              "        2.41962272e-01, -1.91328024e+00, -1.72491783e+00, -5.62287529e-01,\n",
              "       -1.01283112e+00,  3.14247333e-01, -9.08024076e-01, -1.41230370e+00,\n",
              "        1.46564877e+00, -2.25776300e-01,  6.75282047e-02, -1.42474819e+00,\n",
              "       -5.44382725e-01,  1.10922590e-01, -1.15099358e+00,  3.75698018e-01,\n",
              "       -6.00638690e-01, -2.91693750e-01, -6.01706612e-01,  1.85227818e+00,\n",
              "       -1.34972247e-02, -1.05771093e+00,  8.22544912e-01, -1.22084365e+00,\n",
              "        2.08863595e-01, -1.95967012e+00, -1.32818605e+00,  1.96861236e-01,\n",
              "        7.38466580e-01,  1.71368281e-01, -1.15648282e-01, -3.01103696e-01,\n",
              "       -1.47852199e+00, -7.19844208e-01, -4.60638771e-01,  1.05712223e+00,\n",
              "        3.43618290e-01, -1.76304016e+00,  3.24083969e-01, -3.85082280e-01,\n",
              "       -6.76922000e-01,  6.11676289e-01,  1.03099952e+00,  9.31280119e-01,\n",
              "       -8.39217523e-01, -3.09212376e-01,  3.31263431e-01,  9.75545127e-01,\n",
              "       -4.79174238e-01, -1.85658977e-01, -1.10633497e+00, -1.19620662e+00,\n",
              "        8.12525822e-01,  1.35624003e+00, -7.20101216e-02,  1.00353290e+00,\n",
              "        3.61636025e-01, -6.45119755e-01,  3.61395606e-01,  1.53803657e+00,\n",
              "       -3.58260391e-02,  1.56464366e+00, -2.61974510e+00,  8.21902504e-01,\n",
              "        8.70470682e-02, -2.99007350e-01,  9.17607765e-02, -1.98756891e+00,\n",
              "       -2.19671888e-01,  3.57112572e-01,  1.47789404e+00, -5.18270218e-01,\n",
              "       -8.08493603e-01, -5.01757044e-01,  9.15402118e-01,  3.28751110e-01,\n",
              "       -5.29760204e-01,  5.13267433e-01,  9.70775493e-02,  9.68644991e-01,\n",
              "       -7.02053094e-01, -3.27662147e-01, -3.92108153e-01, -1.46351495e+00,\n",
              "        2.96120277e-01,  2.61055272e-01,  5.11345664e-03, -2.34587133e-01,\n",
              "       -1.41537074e+00, -4.20645323e-01, -3.42714517e-01, -8.02277269e-01,\n",
              "       -1.61285712e-01,  4.04050857e-01,  1.88618590e+00,  1.74577813e-01,\n",
              "        2.57550391e-01, -7.44459158e-02, -1.91877122e+00, -2.65138754e-02,\n",
              "        6.02302099e-02,  2.46324211e+00, -1.92360965e-01,  3.01547342e-01,\n",
              "       -3.47117697e-02, -1.16867804e+00,  1.14282281e+00,  7.51933033e-01,\n",
              "        7.91031947e-01, -9.09387455e-01,  1.40279431e+00, -1.40185106e+00,\n",
              "        5.86857094e-01,  2.19045563e+00, -9.90536325e-01, -5.66297730e-01,\n",
              "        9.96513651e-02, -5.03475654e-01, -1.55066343e+00,  6.85629748e-02,\n",
              "       -1.06230371e+00,  4.73592431e-01, -9.19424234e-01,  1.54993441e+00,\n",
              "       -7.83253292e-01, -3.22061516e-01,  8.13517217e-01, -1.23086432e+00,\n",
              "        2.27459935e-01,  1.30714275e+00, -1.60748323e+00,  1.84633859e-01,\n",
              "        2.59882794e-01,  7.81822872e-01, -1.23695071e+00, -1.32045661e+00,\n",
              "        5.21941566e-01,  2.96984673e-01,  2.50492850e-01,  3.46448209e-01,\n",
              "       -6.80024722e-01,  2.32253697e-01,  2.93072473e-01, -7.14351418e-01,\n",
              "        1.86577451e+00,  4.73832921e-01, -1.19130350e+00,  6.56553609e-01,\n",
              "       -9.74681670e-01,  7.87084604e-01,  1.15859558e+00, -8.20682318e-01,\n",
              "        9.63376129e-01,  4.12780927e-01,  8.22060160e-01,  1.89679298e+00,\n",
              "       -2.45388116e-01, -7.53736164e-01, -8.89514430e-01, -8.15810285e-01,\n",
              "       -7.71017094e-02,  3.41151975e-01,  2.76690799e-01,  8.27183249e-01,\n",
              "        1.30018919e-02,  1.45353408e+00, -2.64656833e-01,  2.72016917e+00,\n",
              "        6.25667348e-01, -8.57157556e-01, -1.07089250e+00,  4.82472415e-01,\n",
              "       -2.23462785e-01,  7.14000494e-01,  4.73237625e-01, -7.28289127e-02,\n",
              "       -8.46793718e-01, -1.51484722e+00, -4.46514952e-01,  8.56398794e-01,\n",
              "        2.14093744e-01, -1.24573878e+00,  1.73180926e-01,  3.85317380e-01,\n",
              "       -8.83857436e-01,  1.53725106e-01,  5.82087184e-02, -1.14297030e+00,\n",
              "        3.57787360e-01,  5.60784526e-01,  1.08305124e+00,  1.05380205e+00,\n",
              "       -1.37766937e+00, -9.37825040e-01,  5.15035267e-01,  5.13785951e-01,\n",
              "        5.15047686e-01,  3.85273149e+00,  5.70890511e-01,  1.13556564e+00,\n",
              "        9.54001763e-01,  6.51391251e-01, -3.15269245e-01,  7.58969220e-01,\n",
              "       -7.72825215e-01, -2.36818607e-01, -4.85363548e-01,  8.18741394e-02,\n",
              "        2.31465857e+00, -1.86726519e+00,  6.86260190e-01, -1.61271587e+00,\n",
              "       -4.71931866e-01,  1.08895060e+00,  6.42800191e-02, -1.07774478e+00,\n",
              "       -7.15303709e-01,  6.79597749e-01, -7.30366632e-01,  2.16458590e-01,\n",
              "        4.55718399e-02, -6.51600348e-01,  2.14394409e+00,  6.33919022e-01,\n",
              "       -2.02514259e+00,  1.86454315e-01, -6.61786465e-01,  8.52433335e-01,\n",
              "       -7.92520738e-01, -1.14736441e-01,  5.04987279e-01,  8.65755194e-01,\n",
              "       -1.20029641e+00, -3.34501236e-01, -4.74945311e-01, -6.53329233e-01,\n",
              "        1.76545424e+00,  4.04981711e-01, -1.26088395e+00,  9.17861947e-01,\n",
              "        2.12215620e+00,  1.03246526e+00, -1.51936997e+00, -4.84234073e-01,\n",
              "        1.26691115e+00, -7.07669466e-01,  4.43819428e-01,  7.74634053e-01,\n",
              "       -9.26930472e-01, -5.95253561e-02, -3.24126734e+00, -1.02438764e+00,\n",
              "       -2.52568151e-01, -1.24778318e+00,  1.63241130e+00, -1.43014138e+00,\n",
              "       -4.40044487e-01,  1.30740577e-01,  1.44127329e+00, -1.43586215e+00,\n",
              "        1.16316375e+00,  1.02330610e-02, -9.81508651e-01,  4.62103474e-01,\n",
              "        1.99059696e-01, -6.00216877e-01,  6.98020850e-02, -3.85313597e-01,\n",
              "        1.13517345e-01,  6.62130675e-01,  1.58601682e+00, -1.23781550e+00,\n",
              "        2.13303337e+00, -1.95208780e+00, -1.51785095e-01,  5.88317206e-01,\n",
              "        2.80991868e-01, -6.22699520e-01, -2.08122250e-01, -4.93000935e-01,\n",
              "       -5.89364757e-01,  8.49602097e-01,  3.57015486e-01, -6.92909595e-01,\n",
              "        8.99599875e-01,  3.07299521e-01,  8.12862119e-01,  6.29628842e-01,\n",
              "       -8.28995011e-01, -5.60181040e-01,  7.47293605e-01,  6.10370265e-01,\n",
              "       -2.09015940e-02,  1.17327383e-01,  1.27766490e+00, -5.91571389e-01,\n",
              "        5.47097381e-01, -2.02192652e-01, -2.17681203e-01,  1.09877685e+00,\n",
              "        8.25416349e-01,  8.13509636e-01,  1.30547881e+00,  2.10038416e-02,\n",
              "        6.81952971e-01, -3.10266757e-01,  3.24166352e-01, -1.30143054e-01,\n",
              "        9.69959650e-02,  5.95157025e-01, -8.18220683e-01,  2.09238728e+00,\n",
              "       -1.00601738e+00, -1.21418861e+00,  1.15811087e+00,  7.91662694e-01,\n",
              "        6.24119817e-01,  6.28345509e-01, -1.22467728e-02, -8.97254371e-01,\n",
              "        7.58045582e-02, -6.77161712e-01,  9.75119733e-01, -1.47057382e-01,\n",
              "       -8.25497197e-01, -3.21385842e-01,  4.12931454e-01, -5.63724553e-01,\n",
              "       -8.22220396e-01,  2.43687211e-01,  2.44966571e-01, -5.06943175e-01,\n",
              "       -4.71038306e-01,  2.32049937e-01, -1.44808434e+00, -1.40746377e+00,\n",
              "       -7.18444221e-01, -2.13447152e-01,  3.10907566e-01,  1.47535622e+00,\n",
              "        8.57659623e-01, -1.59938530e-01, -1.90162079e-02, -1.00252936e+00,\n",
              "       -1.85131360e-02, -2.88658639e-01,  3.22718560e-01, -8.27230944e-01,\n",
              "        5.19346514e-01,  1.53273891e+00, -1.08760148e-01,  4.01711722e-01,\n",
              "        6.90143992e-01, -4.01220472e-01,  2.24092482e-01,  1.25924008e-02,\n",
              "        9.76760985e-02, -7.73009784e-01,  2.45101743e-02,  4.97998291e-01,\n",
              "        1.45114361e+00,  9.59270826e-01,  2.15318246e+00, -7.67347563e-01,\n",
              "        8.72320637e-01,  1.83342006e-01,  2.18980293e+00, -8.08298285e-01,\n",
              "       -8.39721842e-01, -5.99392645e-01, -2.12389572e+00, -5.25755022e-01,\n",
              "       -7.59132662e-01,  1.50393786e-01,  3.41755976e-01,  1.87617084e+00,\n",
              "        9.50423838e-01, -5.76903656e-01, -8.98414671e-01,  4.91919172e-01,\n",
              "       -1.32023321e+00,  1.83145877e+00,  1.17944012e+00, -4.69175652e-01,\n",
              "       -1.71313453e+00,  1.35387237e+00, -1.14539845e-01,  1.23781631e+00,\n",
              "       -1.59442766e+00, -5.99375023e-01,  5.24369972e-03,  4.69805938e-02,\n",
              "       -4.50065471e-01,  6.22849932e-01, -1.06762043e+00, -1.42379485e-01,\n",
              "        1.20295632e-01,  5.14438834e-01,  7.11614878e-01, -1.12464209e+00,\n",
              "       -1.53411417e+00,  1.27767682e+00,  3.32314012e-01, -7.48486537e-01,\n",
              "        1.55115198e+00,  1.15674634e-01,  1.17929718e+00,  6.75184814e-02,\n",
              "        2.06074792e+00,  1.75534084e+00, -2.48964148e-01,  9.71570951e-01,\n",
              "        6.45375950e-01,  1.36863156e+00, -9.64923461e-01,  6.86051460e-01,\n",
              "        1.05842449e+00, -1.75873949e+00, -1.18325851e+00, -2.03923218e+00,\n",
              "       -2.69406834e-01,  7.17542256e-01,  1.50235705e+00,  7.40947804e-02,\n",
              "        1.62861555e+00, -1.38010146e+00, -1.70338244e+00, -5.55476989e-02,\n",
              "        3.84065449e-01, -3.26947481e-02, -2.06744210e+00, -8.91200395e-02,\n",
              "       -1.30446950e+00,  6.69672549e-01,  3.66598246e-01, -9.39879786e-01,\n",
              "       -5.13866917e-01, -1.05921352e+00, -6.26790973e-02,  9.55142321e-01,\n",
              "       -9.85726046e-01,  5.04046516e-01, -5.30257618e-01, -7.92872832e-01,\n",
              "       -1.07030360e-01, -1.03524232e+00, -5.53649305e-01, -1.19787789e+00,\n",
              "        1.96472513e+00,  3.52635520e-02, -6.99725508e-01,  2.13979911e-01,\n",
              "       -1.12328050e-01, -2.20969600e-01,  6.14166700e-01,  7.57507710e-01,\n",
              "       -5.30501148e-01, -5.75818241e-01, -2.75051697e-01, -2.30192116e+00,\n",
              "       -1.51519106e+00,  1.36687427e+00,  1.64496771e+00, -2.49036040e-01,\n",
              "        5.76556963e-01,  3.11250155e-01,  3.07888081e+00,  1.11957491e+00,\n",
              "       -1.27917591e-01, -9.55540441e-01, -1.60644632e+00,  2.03463636e-01,\n",
              "       -7.56350745e-01, -1.42225371e+00, -6.46572884e-01, -1.08154800e+00,\n",
              "        1.68714164e+00,  8.81639757e-01, -7.97264132e-03,  1.47994414e+00,\n",
              "        7.73683076e-02, -8.61284201e-01,  1.52312408e+00,  5.38910044e-01,\n",
              "       -1.03724615e+00, -1.90338678e-01, -8.75618253e-01, -1.38279973e+00,\n",
              "        9.26177548e-01,  1.90941664e+00, -1.39856757e+00,  5.62969237e-01,\n",
              "       -6.50642569e-01, -4.87125384e-01, -5.92393924e-01, -8.63990770e-01,\n",
              "        4.85216279e-02, -8.30950116e-01,  2.70456826e-01, -5.02381094e-02,\n",
              "       -2.38948047e-01, -9.07563662e-01, -5.76771331e-01,  7.55391226e-01,\n",
              "        5.00917188e-01, -9.77555245e-01,  9.93323054e-02,  7.51387123e-01,\n",
              "       -1.66940528e+00,  5.43360192e-01, -6.62623759e-01,  5.70598669e-01,\n",
              "       -7.63259157e-01, -1.80488210e+00, -1.62754244e+00,  4.80849467e-02,\n",
              "        2.59722502e-01, -9.04316625e-01,  6.38592459e-01, -1.66152006e+00,\n",
              "       -6.60797986e-02, -1.21101620e+00, -6.51836108e-01,  4.73986713e-02,\n",
              "       -8.60413365e-01, -3.84555544e-01,  1.00629281e+00, -5.76891870e-01,\n",
              "        8.35692112e-01, -1.12970685e+00,  5.29804178e-01,  1.44156862e+00,\n",
              "       -2.47164450e+00, -7.96895255e-01,  5.77072127e-01, -2.03045386e-01,\n",
              "        3.71145873e-01, -6.03985187e-01,  8.65897875e-02, -1.55677235e-01,\n",
              "        1.16778206e+00,  2.54420843e-01,  3.37602662e-01, -4.11876966e-01,\n",
              "       -4.87606224e-01, -4.32558188e-01,  3.94452142e-01, -4.20984481e-01,\n",
              "        2.89774857e-01,  2.07540080e+00,  8.71124703e-01, -3.26023532e-01,\n",
              "        1.20121392e+00, -4.08075373e-01, -2.03812454e+00, -1.00808631e+00,\n",
              "       -1.87079192e+00, -3.51513484e-01,  1.84183792e-02,  1.67643731e+00,\n",
              "        3.26927374e-01, -2.19100529e-01,  8.29405581e-01, -2.21113531e+00,\n",
              "        2.35614558e-01,  7.70865194e-01, -1.47858625e+00,  1.14375404e+00,\n",
              "        3.38496407e-01, -4.15287914e-01,  6.32781866e-01,  2.27069286e+00,\n",
              "        1.81866255e-01,  2.48220586e-01, -4.59360900e-01, -8.49844369e-01,\n",
              "        8.30335817e-01, -8.56083826e-01,  7.15662372e-02, -4.77657447e-01,\n",
              "        4.78979826e-01,  3.33662105e-01,  1.03753994e+00, -5.10016399e-01,\n",
              "       -2.69874935e-01, -9.78763716e-01, -4.44293260e-01,  3.77300493e-01,\n",
              "        7.56988617e-01, -9.22165324e-01,  8.69605920e-01,  1.35563786e+00,\n",
              "        4.13434903e-01,  1.87679581e+00, -7.73789199e-01, -1.24465470e+00,\n",
              "       -1.77872025e+00,  1.49604431e+00,  6.54365656e-01, -5.55846709e-02,\n",
              "        2.79968626e-01, -1.12548905e+00,  2.44575198e+00,  1.29221182e-01,\n",
              "        1.09394795e-01,  7.25766624e-01,  4.81009232e-01,  2.23884024e-01,\n",
              "       -7.90474455e-01,  4.71468357e-01,  1.88202450e+00,  1.34542005e+00,\n",
              "        1.59318663e+00, -5.11215676e-01, -9.89604820e-01, -1.25786920e-01,\n",
              "        5.57249123e-02,  1.09419152e+00, -1.69246463e+00,  1.52955032e+00,\n",
              "       -1.58007899e-01, -4.26881070e-01, -1.01210438e+00, -1.65485667e+00,\n",
              "        8.23170584e-01,  7.33179672e-02, -1.28996090e+00, -1.29507877e+00,\n",
              "       -3.35784699e-01,  1.66902153e+00, -2.59591351e-01, -1.50314295e+00,\n",
              "       -2.45743064e-01, -2.72723570e-01, -2.69688664e+00, -5.42948665e-02,\n",
              "       -2.30934530e-01,  6.96206365e-01,  1.84895609e+00,  1.12656503e+00,\n",
              "       -2.68888691e-01, -1.10652591e+00,  2.57335980e+00,  5.92184340e-02,\n",
              "        1.39292919e-02, -2.41250871e-02,  1.98084761e-01, -1.44360412e-01,\n",
              "       -5.73662007e-01, -5.46858941e-01, -3.27532702e-02, -5.43424771e-01,\n",
              "       -7.12845783e-01,  1.06430228e-01, -2.54977217e-01,  1.50399299e+00,\n",
              "       -2.65096981e+00,  1.09150685e+00,  1.24608519e+00, -2.07339023e+00,\n",
              "       -3.42687594e-01, -3.71440866e-01, -1.40751169e+00, -7.77816688e-01,\n",
              "       -1.11057585e+00,  1.75227044e+00,  9.35678393e-01,  1.27155509e+00,\n",
              "        7.21672064e-01, -1.12905177e+00, -5.24520266e-01,  4.89374561e-01,\n",
              "       -1.22212781e+00,  7.12998430e-01, -2.40325398e-01, -3.74820808e-01,\n",
              "        7.10959968e-01,  4.44263311e-01, -3.60966166e-01,  1.15932980e+00,\n",
              "       -1.08106333e+00,  6.15935607e-01,  5.93101258e-01, -3.09546439e-01,\n",
              "        3.26133022e-01, -1.25111358e+00,  9.24027019e-01, -1.84902136e-01,\n",
              "       -5.22723021e-01,  1.04900923e+00, -7.04343691e-01, -1.40846130e+00,\n",
              "       -1.55662917e+00,  6.06009951e-01, -1.28042935e+00,  1.75479418e+00,\n",
              "       -2.08192941e+00,  1.69645637e+00,  2.11017467e-01, -9.67131119e-02,\n",
              "       -5.44919087e-01,  3.99136114e-01, -3.76347024e-02,  1.10330188e+00,\n",
              "        1.14227649e-01,  1.50301761e-01, -3.63612212e-01, -5.69456237e-02,\n",
              "        3.07801769e-01, -1.71016839e+00, -1.34818542e+00,  7.43264094e-01,\n",
              "        1.70865438e-01, -1.83983336e-01,  1.84339331e-02,  3.47581705e-01,\n",
              "       -5.39759680e-01, -7.78304725e-01,  1.95845255e-01, -9.78372778e-01,\n",
              "        4.08252756e-01, -1.70258360e+00,  1.02915564e+00,  4.72597482e-01,\n",
              "        2.56029734e-01,  9.82690984e-01,  1.66547444e+00,  1.01437007e+00,\n",
              "       -1.84087423e+00, -1.27957697e+00, -6.24818578e-01,  2.60910502e-02,\n",
              "        5.17659020e-01, -7.25743813e-01,  1.86766764e-01, -7.55382932e-01,\n",
              "       -6.11517803e-01, -1.40666110e+00, -9.23233246e-01, -1.35168461e+00,\n",
              "       -9.75873253e-01,  1.05364180e+00, -9.49398889e-01,  2.63238206e+00,\n",
              "        4.93317901e-01,  1.84836124e-01, -8.58357780e-01,  7.00309879e-01,\n",
              "       -5.75637826e-01,  1.22009815e-01,  2.56008454e+00, -9.60598997e-02,\n",
              "        1.14927333e+00, -7.03176425e-01, -3.49884905e-02,  1.77080064e+00,\n",
              "       -6.26967058e-01,  1.81244856e+00,  7.07751935e-01, -5.62466776e-01,\n",
              "        6.32407739e-01,  9.72554450e-01,  6.21809962e-01, -1.57022472e+00,\n",
              "       -7.27137176e-01, -2.47518636e-01, -7.44334291e-02,  6.20672098e-01,\n",
              "        1.77701001e-01, -1.33534436e+00,  3.80197851e-01,  6.10585745e-01,\n",
              "        5.59790448e-01,  1.08078073e+00,  8.33922155e-01,  4.59180079e-01,\n",
              "       -7.01657115e-02, -1.66096093e+00,  4.29618219e-01,  2.07687687e-01,\n",
              "        2.71578837e-01, -1.27674858e+00, -1.08105654e+00,  1.05315285e+00,\n",
              "       -3.95551539e-02,  6.81500697e-01,  2.83183761e-02,  2.97561395e-02,\n",
              "        9.38283806e-01, -5.16044728e-01,  9.61207769e-02, -4.62275289e-01,\n",
              "       -4.34496227e-01, -3.09172123e-01,  2.22133772e-01, -4.78748622e-01,\n",
              "        1.25575613e+00, -8.94607302e-01, -1.86871644e-01, -4.39731058e-01,\n",
              "        1.44697788e+00,  1.96554777e-01,  1.03184454e+00, -1.48556037e+00,\n",
              "        2.67050266e-01,  8.89630796e-01,  8.22839893e-02,  1.06548038e+00,\n",
              "       -5.17288450e-01,  1.40934744e+00,  2.29889812e+00, -3.62838560e-01,\n",
              "       -4.45502521e-01,  1.45338448e+00,  1.57957215e+00, -5.22860027e-01,\n",
              "       -4.20186817e-01, -2.81784609e-01, -1.34445051e+00, -9.18651946e-01,\n",
              "       -1.00414077e+00, -7.67797565e-01, -3.46848874e-02,  2.34214733e-01,\n",
              "        1.55050049e+00, -9.98354041e-01,  9.84322398e-01, -2.13988844e-01,\n",
              "       -4.94637097e-02,  6.74819492e-01, -1.12272202e+00,  3.82409746e-01,\n",
              "        1.66452208e-01,  4.92451264e-01,  2.89168644e-01,  2.45530014e+00,\n",
              "       -6.37739984e-01, -5.30996955e-01, -6.23140526e-01, -5.55477119e-01,\n",
              "       -6.37387127e-01,  1.18901653e+00,  1.42050425e+00, -5.70746294e-01,\n",
              "       -8.32355573e-01,  4.71415556e-01, -5.52223044e-01,  6.32931818e-01,\n",
              "        2.02923021e-01, -1.51574411e+00,  1.54750520e+00,  1.79587767e+00,\n",
              "       -6.12788690e-01, -3.87701560e-01,  2.85865391e-01,  3.34456790e-01,\n",
              "        6.58544273e-01,  2.01020454e+00, -1.76947227e-01, -7.98297245e-01,\n",
              "       -1.37931923e+00, -7.30930040e-01, -3.31269729e-02,  1.79455786e+00,\n",
              "       -5.17611299e-01,  2.23787952e-01, -1.64228961e-02,  1.18839327e+00,\n",
              "        2.52693243e+00, -5.30868773e-01, -4.89439443e-01,  1.04416088e+00,\n",
              "        6.81891490e-01,  1.84670733e+00,  5.83928185e-01, -3.59292091e-01,\n",
              "        5.90654831e-01,  1.10870358e+00,  8.20482181e-01,  5.07274031e-01,\n",
              "        1.06667469e+00,  1.16929559e+00,  1.38215899e+00,  6.48709888e-01,\n",
              "       -1.67118080e-01,  1.46713686e-01,  1.20650897e+00, -8.16935671e-01,\n",
              "        3.68673309e-01, -3.93338812e-01,  2.87448229e-02,  1.27845186e+00,\n",
              "        1.91099068e-01,  4.64365482e-02, -1.35985614e+00,  7.46253566e-01,\n",
              "        6.45484181e-01,  2.16325472e+00, -3.07778235e-01,  2.19150328e-01,\n",
              "        2.49383684e-01,  1.57745328e+00, -9.52955324e-02,  2.79021526e-01,\n",
              "        6.07896510e-01,  1.86609123e-01, -4.46433615e-01,  1.94089993e-01,\n",
              "        1.07363175e+00, -1.02651530e+00,  1.32969674e-01, -7.00120815e-01,\n",
              "        1.19504663e+00, -1.52318690e+00, -5.58921847e-01,  3.77211875e-01,\n",
              "        1.56552403e+00, -6.57502611e-02, -5.55199527e-01,  1.88115707e+00,\n",
              "       -1.44801390e+00, -2.19880596e+00,  4.40014450e-01, -5.02054224e-01,\n",
              "       -1.02123282e+00,  7.08356447e-01,  2.43800714e-01, -5.64078631e-01,\n",
              "       -1.28030440e+00,  8.72457328e-01,  6.50201178e-01, -9.91758638e-02,\n",
              "        1.84663700e+00, -1.07008477e+00, -1.52552517e+00, -6.91908070e-01,\n",
              "       -4.55860164e-02,  2.43339449e-01, -2.41236058e-01,  3.52055397e-01,\n",
              "       -1.25153942e+00,  1.44376460e+00, -8.21511784e-02,  1.11729583e+00,\n",
              "        3.42725346e-01,  4.56753219e-01,  5.69767280e-01,  4.47708560e-01,\n",
              "        6.42722760e-01,  1.32915253e+00,  1.96521170e-01,  7.09003758e-01,\n",
              "       -8.97356943e-02,  1.44011722e+00, -6.76392302e-01,  1.80094043e+00,\n",
              "       -4.01579506e-02, -1.43077510e+00,  1.28104415e-01, -6.81051657e-01,\n",
              "        8.40643549e-01, -6.52623979e-01, -4.46183433e-01, -1.88954073e+00,\n",
              "       -4.52306319e-01, -2.42387933e+00, -1.58390282e+00,  7.60414656e-01,\n",
              "        7.85800159e-01,  4.25457562e-01, -9.66976143e-01, -4.77113561e-02,\n",
              "       -3.60253909e-03, -1.15836469e+00,  1.50339830e+00,  8.77362291e-01,\n",
              "       -2.20964174e-01,  2.68858390e-02,  2.08382808e-01, -2.04173487e+00,\n",
              "       -2.47177383e-01, -6.81984248e-01, -1.00162001e+00, -2.81100293e-01,\n",
              "        1.79768653e+00,  6.40842861e-01, -5.71178990e-01,  5.72582781e-01])"
            ]
          },
          "metadata": {},
          "execution_count": 12
        }
      ],
      "source": [
        "np.random.seed(42)\n",
        "random_samples = np.random.randn(1000)\n",
        "random_samples"
      ]
    },
    {
      "cell_type": "code",
      "execution_count": 13,
      "id": "473fa5d4",
      "metadata": {
        "colab": {
          "base_uri": "https://localhost:8080/"
        },
        "id": "473fa5d4",
        "outputId": "de174ca8-6fac-4f1e-b709-7cc26a787f5d"
      },
      "outputs": [
        {
          "output_type": "stream",
          "name": "stdout",
          "text": [
            "0.01933205582232549 0.9787262077473543\n"
          ]
        }
      ],
      "source": [
        "print(np.mean(random_samples), np.std(random_samples))"
      ]
    },
    {
      "cell_type": "code",
      "execution_count": 14,
      "id": "2a2078f1",
      "metadata": {
        "colab": {
          "base_uri": "https://localhost:8080/",
          "height": 265
        },
        "id": "2a2078f1",
        "outputId": "64b8967b-8c53-4d79-97fd-3f2f58b969d3"
      },
      "outputs": [
        {
          "output_type": "display_data",
          "data": {
            "text/plain": [
              "<Figure size 432x288 with 1 Axes>"
            ],
            "image/png": "[encoded data removed]"
          },
          "metadata": {
            "needs_background": "light"
          }
        }
      ],
      "source": [
        "plt.hist(random_samples)\n",
        "plt.show()"
      ]
    },
    {
      "cell_type": "code",
      "execution_count": 15,
      "id": "5f959279",
      "metadata": {
        "colab": {
          "base_uri": "https://localhost:8080/",
          "height": 265
        },
        "id": "5f959279",
        "outputId": "587effc1-ee20-4e32-a621-a609c6a780c8",
        "scrolled": true
      },
      "outputs": [
        {
          "output_type": "display_data",
          "data": {
            "text/plain": [
              "<Figure size 432x288 with 1 Axes>"
            ],
            "image/png": "[encoded data removed]"
          },
          "metadata": {
            "needs_background": "light"
          }
        }
      ],
      "source": [
        "# 대출건수의 90%백분위가 28\n",
        "plt.hist(ns_book7['대출건수'])\n",
        "plt.show()"
      ]
    },
    {
      "cell_type": "code",
      "execution_count": null,
      "id": "625a170b",
      "metadata": {
        "colab": {
          "base_uri": "https://localhost:8080/",
          "height": 265
        },
        "id": "625a170b",
        "outputId": "79786b3c-9dc2-4ae8-c04d-6779a38da438",
        "scrolled": true
      },
      "outputs": [
        {
          "data": {
            "image/png": "[encoded data removed]",
            "text/plain": [
              "<Figure size 432x288 with 1 Axes>"
            ]
          },
          "metadata": {
            "needs_background": "light"
          },
          "output_type": "display_data"
        }
      ],
      "source": [
        "# 로그스케일\n",
        "plt.hist(ns_book7['대출건수'])\n",
        "plt.yscale('log')\n",
        "plt.show()"
      ]
    },
    {
      "cell_type": "code",
      "execution_count": 16,
      "id": "7aee9b28",
      "metadata": {
        "colab": {
          "base_uri": "https://localhost:8080/",
          "height": 265
        },
        "id": "7aee9b28",
        "outputId": "2e111a39-ead6-41df-fed0-ff1562c8c7f0",
        "scrolled": true
      },
      "outputs": [
        {
          "output_type": "display_data",
          "data": {
            "text/plain": [
              "<Figure size 432x288 with 1 Axes>"
            ],
            "image/png": "[encoded data removed]"
          },
          "metadata": {
            "needs_background": "light"
          }
        }
      ],
      "source": [
        "plt.hist(ns_book7['대출건수'], log=True)\n",
        "plt.show()"
      ]
    },
    {
      "cell_type": "code",
      "execution_count": 17,
      "id": "067c5f26",
      "metadata": {
        "colab": {
          "base_uri": "https://localhost:8080/",
          "height": 265
        },
        "id": "067c5f26",
        "outputId": "8ee59b87-962b-41c5-8f69-0ff4c9889925",
        "scrolled": true
      },
      "outputs": [
        {
          "output_type": "display_data",
          "data": {
            "text/plain": [
              "<Figure size 432x288 with 1 Axes>"
            ],
            "image/png": "[encoded data removed]"
          },
          "metadata": {
            "needs_background": "light"
          }
        }
      ],
      "source": [
        "plt.hist(ns_book7['대출건수'], bins=100)\n",
        "plt.yscale('log')\n",
        "plt.show()"
      ]
    },
    {
      "cell_type": "code",
      "execution_count": 19,
      "id": "022c895f",
      "metadata": {
        "colab": {
          "base_uri": "https://localhost:8080/",
          "height": 265
        },
        "id": "022c895f",
        "outputId": "d7d2a291-5c0a-4817-e2cf-9cfdce695dc0",
        "scrolled": true
      },
      "outputs": [
        {
          "output_type": "display_data",
          "data": {
            "text/plain": [
              "<Figure size 432x288 with 1 Axes>"
            ],
            "image/png": "[encoded data removed]"
          },
          "metadata": {
            "needs_background": "light"
          }
        }
      ],
      "source": [
        "# 도서명 길이 히스토그램\n",
        "title_len = ns_book7['도서명'].apply(len)\n",
        "plt.hist(title_len, bins=100)\n",
        "plt.show()"
      ]
    },
    {
      "cell_type": "code",
      "execution_count": 20,
      "id": "53810ebd",
      "metadata": {
        "colab": {
          "base_uri": "https://localhost:8080/",
          "height": 269
        },
        "id": "53810ebd",
        "outputId": "1ec8bcef-dd80-496f-94bf-630299dd877e",
        "scrolled": true
      },
      "outputs": [
        {
          "output_type": "display_data",
          "data": {
            "text/plain": [
              "<Figure size 432x288 with 1 Axes>"
            ],
            "image/png": "[encoded data removed]"
          },
          "metadata": {
            "needs_background": "light"
          }
        }
      ],
      "source": [
        "plt.hist(title_len, bins=100)\n",
        "plt.xscale('log')\n",
        "plt.show()"
      ]
    },
    {
      "cell_type": "markdown",
      "id": "9446ff0f",
      "metadata": {
        "id": "9446ff0f"
      },
      "source": [
        "## 상자 수염 그림 그리기"
      ]
    },
    {
      "cell_type": "code",
      "execution_count": 21,
      "id": "H-KytolqhAwI",
      "metadata": {
        "id": "H-KytolqhAwI"
      },
      "outputs": [],
      "source": [
        "temp = ns_book7[['대출건수','도서권수']]"
      ]
    },
    {
      "cell_type": "code",
      "execution_count": 22,
      "id": "8f78bb88",
      "metadata": {
        "colab": {
          "base_uri": "https://localhost:8080/",
          "height": 265
        },
        "id": "8f78bb88",
        "outputId": "80b40df3-b2df-42ee-d2d2-895efe261bae"
      },
      "outputs": [
        {
          "output_type": "display_data",
          "data": {
            "text/plain": [
              "<Figure size 432x288 with 1 Axes>"
            ],
            "image/png": "[encoded data removed]"
          },
          "metadata": {
            "needs_background": "light"
          }
        }
      ],
      "source": [
        "plt.boxplot(temp)\n",
        "plt.show() # 사분위수가 매우 작아서 직사각형 상자가 거의 보이지 X"
      ]
    },
    {
      "cell_type": "code",
      "execution_count": 23,
      "id": "d9718075",
      "metadata": {
        "id": "d9718075",
        "scrolled": true,
        "outputId": "fad67804-ce5f-459d-9a18-efe75657213a",
        "colab": {
          "base_uri": "https://localhost:8080/",
          "height": 265
        }
      },
      "outputs": [
        {
          "output_type": "display_data",
          "data": {
            "text/plain": [
              "<Figure size 432x288 with 1 Axes>"
            ],
            "image/png": "[encoded data removed]"
          },
          "metadata": {
            "needs_background": "light"
          }
        }
      ],
      "source": [
        "plt.boxplot(ns_book7[['대출건수','도서권수']])\n",
        "plt.yscale('log')\n",
        "plt.show()"
      ]
    },
    {
      "cell_type": "code",
      "execution_count": 24,
      "id": "86607506",
      "metadata": {
        "id": "86607506",
        "scrolled": true,
        "outputId": "8f44baa1-ab0c-4695-953a-403cf7f3beae",
        "colab": {
          "base_uri": "https://localhost:8080/",
          "height": 269
        }
      },
      "outputs": [
        {
          "output_type": "display_data",
          "data": {
            "text/plain": [
              "<Figure size 432x288 with 1 Axes>"
            ],
            "image/png": "[encoded data removed]"
          },
          "metadata": {
            "needs_background": "light"
          }
        }
      ],
      "source": [
        "# 수평으로 그리기\n",
        "plt.boxplot(ns_book7[['대출건수','도서권수']], vert=False)\n",
        "plt.xscale('log')\n",
        "plt.show()"
      ]
    },
    {
      "cell_type": "code",
      "execution_count": 25,
      "id": "c3ba5685",
      "metadata": {
        "id": "c3ba5685",
        "scrolled": true,
        "outputId": "60709079-ec4a-4899-9a25-c93c06c7712e",
        "colab": {
          "base_uri": "https://localhost:8080/",
          "height": 265
        }
      },
      "outputs": [
        {
          "output_type": "display_data",
          "data": {
            "text/plain": [
              "<Figure size 432x288 with 1 Axes>"
            ],
            "image/png": "[encoded data removed]"
          },
          "metadata": {
            "needs_background": "light"
          }
        }
      ],
      "source": [
        "# 수염 길이 조정 (기본값 1.5)\n",
        "plt.boxplot(ns_book7[['대출건수','도서권수']], whis=10)\n",
        "plt.yscale('log')\n",
        "plt.show()"
      ]
    },
    {
      "cell_type": "code",
      "execution_count": 27,
      "id": "9b728bb3",
      "metadata": {
        "id": "9b728bb3",
        "scrolled": true,
        "outputId": "7746f40e-e874-4a5b-e3da-1aa8bd4f6742",
        "colab": {
          "base_uri": "https://localhost:8080/",
          "height": 265
        }
      },
      "outputs": [
        {
          "output_type": "display_data",
          "data": {
            "text/plain": [
              "<Figure size 432x288 with 1 Axes>"
            ],
            "image/png": "[encoded data removed]"
          },
          "metadata": {
            "needs_background": "light"
          }
        }
      ],
      "source": [
        "# 10%,90% 백분위수에 해당하는 데이터까지 수염 그리기\n",
        "plt.boxplot(ns_book7[['대출건수','도서권수']], whis=(10,90))\n",
        "plt.yscale('log')\n",
        "plt.show()"
      ]
    },
    {
      "cell_type": "markdown",
      "id": "3d69dab0",
      "metadata": {
        "id": "3d69dab0"
      },
      "source": [
        "## 판다스의 그래프 함수"
      ]
    },
    {
      "cell_type": "markdown",
      "id": "eca712b0",
      "metadata": {
        "id": "eca712b0"
      },
      "source": [
        "### 산점도 그리기"
      ]
    },
    {
      "cell_type": "code",
      "execution_count": 29,
      "id": "15125149",
      "metadata": {
        "id": "15125149",
        "outputId": "2f976d8e-94c5-45a6-8496-37b121ff6c89",
        "colab": {
          "base_uri": "https://localhost:8080/",
          "height": 279
        }
      },
      "outputs": [
        {
          "output_type": "display_data",
          "data": {
            "text/plain": [
              "<Figure size 432x288 with 1 Axes>"
            ],
            "image/png": "[encoded data removed]"
          },
          "metadata": {
            "needs_background": "light"
          }
        }
      ],
      "source": [
        "ns_book7.plot.scatter('도서권수', '대출건수', alpha=0.1)\n",
        "plt.show()"
      ]
    },
    {
      "cell_type": "markdown",
      "id": "9937a742",
      "metadata": {
        "id": "9937a742"
      },
      "source": [
        "### 히스토그램 그리기"
      ]
    },
    {
      "cell_type": "code",
      "execution_count": 30,
      "id": "522da025",
      "metadata": {
        "id": "522da025",
        "outputId": "1b681918-12bf-458a-88e7-988238676279",
        "colab": {
          "base_uri": "https://localhost:8080/",
          "height": 265
        }
      },
      "outputs": [
        {
          "output_type": "display_data",
          "data": {
            "text/plain": [
              "<Figure size 432x288 with 1 Axes>"
            ],
            "image/png": "[encoded data removed]"
          },
          "metadata": {
            "needs_background": "light"
          }
        }
      ],
      "source": [
        "ns_book7['도서명'].apply(len).plot.hist(bins=100)\n",
        "plt.show()"
      ]
    },
    {
      "cell_type": "code",
      "execution_count": 31,
      "id": "1ec9ae8e",
      "metadata": {
        "id": "1ec9ae8e",
        "outputId": "fc249ac6-54c6-4bcb-8922-b045b7d3ca71",
        "colab": {
          "base_uri": "https://localhost:8080/",
          "height": 265
        }
      },
      "outputs": [
        {
          "output_type": "display_data",
          "data": {
            "text/plain": [
              "<Figure size 432x288 with 1 Axes>"
            ],
            "image/png": "[encoded data removed]"
          },
          "metadata": {
            "needs_background": "light"
          }
        }
      ],
      "source": [
        "ns_book7['도서명'].apply(len).plot.hist(bins=100)\n",
        "plt.show()"
      ]
    },
    {
      "cell_type": "markdown",
      "id": "58ad0f26",
      "metadata": {
        "id": "58ad0f26"
      },
      "source": [
        "### 상자 수염 그림 그리기"
      ]
    },
    {
      "cell_type": "code",
      "execution_count": 33,
      "id": "3a53b5c2",
      "metadata": {
        "id": "3a53b5c2",
        "outputId": "9171f9ef-b695-4880-8178-094f87b68bad",
        "colab": {
          "base_uri": "https://localhost:8080/",
          "height": 539
        }
      },
      "outputs": [
        {
          "output_type": "stream",
          "name": "stderr",
          "text": [
            "/usr/local/lib/python3.9/dist-packages/IPython/core/pylabtools.py:128: UserWarning: Glyph 45824 (\\N{HANGUL SYLLABLE DAE}) missing from current font.\n",
            "  fig.canvas.print_figure(bytes_io, **kw)\n",
            "/usr/local/lib/python3.9/dist-packages/IPython/core/pylabtools.py:128: UserWarning: Glyph 52636 (\\N{HANGUL SYLLABLE CUL}) missing from current font.\n",
            "  fig.canvas.print_figure(bytes_io, **kw)\n",
            "/usr/local/lib/python3.9/dist-packages/IPython/core/pylabtools.py:128: UserWarning: Glyph 44148 (\\N{HANGUL SYLLABLE GEON}) missing from current font.\n",
            "  fig.canvas.print_figure(bytes_io, **kw)\n",
            "/usr/local/lib/python3.9/dist-packages/IPython/core/pylabtools.py:128: UserWarning: Glyph 49688 (\\N{HANGUL SYLLABLE SU}) missing from current font.\n",
            "  fig.canvas.print_figure(bytes_io, **kw)\n",
            "/usr/local/lib/python3.9/dist-packages/IPython/core/pylabtools.py:128: UserWarning: Glyph 46020 (\\N{HANGUL SYLLABLE DO}) missing from current font.\n",
            "  fig.canvas.print_figure(bytes_io, **kw)\n",
            "/usr/local/lib/python3.9/dist-packages/IPython/core/pylabtools.py:128: UserWarning: Glyph 49436 (\\N{HANGUL SYLLABLE SEO}) missing from current font.\n",
            "  fig.canvas.print_figure(bytes_io, **kw)\n",
            "/usr/local/lib/python3.9/dist-packages/IPython/core/pylabtools.py:128: UserWarning: Glyph 44428 (\\N{HANGUL SYLLABLE GWEON}) missing from current font.\n",
            "  fig.canvas.print_figure(bytes_io, **kw)\n"
          ]
        },
        {
          "output_type": "display_data",
          "data": {
            "text/plain": [
              "<Figure size 432x288 with 1 Axes>"
            ],
            "image/png": "[encoded data removed]"
          },
          "metadata": {
            "needs_background": "light"
          }
        }
      ],
      "source": [
        "ns_book7[['대출건수','도서권수']].boxplot()\n",
        "plt.yscale('log')\n",
        "plt.show()"
      ]
    },
    {
      "cell_type": "markdown",
      "id": "fc9339a9",
      "metadata": {
        "id": "fc9339a9"
      },
      "source": [
        "## 확인문제"
      ]
    },
    {
      "cell_type": "markdown",
      "id": "f9a6bba5",
      "metadata": {
        "id": "f9a6bba5"
      },
      "source": [
        "#### 4."
      ]
    },
    {
      "cell_type": "code",
      "source": [
        "# ns_book7데이터에서 1980~2022년 사이에 발행된 도서를 선택하여 발행년도 열의 히스토그램을 그려라\n",
        "selected_rows = (ns_book7['발행년도'] >= 1980) & (ns_book7['발행년도'] <= 2022)\n",
        "plt.hist(ns_book7.loc[selected_rows,'발행년도'])\n",
        "plt.show()"
      ],
      "metadata": {
        "id": "a8zahlT2D5aw",
        "outputId": "9b92ce6a-83c1-4177-f521-41aa1dd2f941",
        "colab": {
          "base_uri": "https://localhost:8080/",
          "height": 265
        }
      },
      "id": "a8zahlT2D5aw",
      "execution_count": 35,
      "outputs": [
        {
          "output_type": "display_data",
          "data": {
            "text/plain": [
              "<Figure size 432x288 with 1 Axes>"
            ],
            "image/png": "[encoded data removed]"
          },
          "metadata": {
            "needs_background": "light"
          }
        }
      ]
    },
    {
      "cell_type": "markdown",
      "source": [
        "##### 정답.\n"
      ],
      "metadata": {
        "id": "8jIqy9V3D5gs"
      },
      "id": "8jIqy9V3D5gs"
    },
    {
      "cell_type": "code",
      "execution_count": null,
      "id": "9e4b91f2",
      "metadata": {
        "id": "9e4b91f2"
      },
      "outputs": [],
      "source": [
        "selected_rows = (1980 <= ns_book7['발행년도']) & (ns_book7['발행년도'] <= 2022)\n",
        "plt.hist(ns_book7.loc[selected_rows, '발행년도'])\n",
        "plt.show()"
      ]
    },
    {
      "cell_type": "markdown",
      "id": "67120d95",
      "metadata": {
        "id": "67120d95"
      },
      "source": [
        "#### 5."
      ]
    },
    {
      "cell_type": "code",
      "source": [
        "# 문제 5번에서 선택한 도서로 발행년도 열의 상자수염그림그리기\n",
        "plt.boxplot(ns_book7.loc[selected_rows,'발행년도'])\n",
        "plt.show()"
      ],
      "metadata": {
        "id": "Zxwla9uKD8WP",
        "outputId": "e93a8c5f-9084-4646-e4c1-e1013a433f0f",
        "colab": {
          "base_uri": "https://localhost:8080/",
          "height": 265
        }
      },
      "id": "Zxwla9uKD8WP",
      "execution_count": 36,
      "outputs": [
        {
          "output_type": "display_data",
          "data": {
            "text/plain": [
              "<Figure size 432x288 with 1 Axes>"
            ],
            "image/png": "[encoded data removed]"
          },
          "metadata": {
            "needs_background": "light"
          }
        }
      ]
    },
    {
      "cell_type": "markdown",
      "source": [
        "##### 정답\n"
      ],
      "metadata": {
        "id": "3bEArnehD8cf"
      },
      "id": "3bEArnehD8cf"
    },
    {
      "cell_type": "code",
      "execution_count": null,
      "id": "0037f2f3",
      "metadata": {
        "id": "0037f2f3"
      },
      "outputs": [],
      "source": [
        "plt.boxplot(ns_book7.loc[selected_rows, '발행년도'])\n",
        "plt.show()"
      ]
    }
  ],
  "metadata": {
    "colab": {
      "provenance": []
    },
    "kernelspec": {
      "display_name": "Python 3 (ipykernel)",
      "language": "python",
      "name": "python3"
    },
    "language_info": {
      "codemirror_mode": {
        "name": "ipython",
        "version": 3
      },
      "file_extension": ".py",
      "mimetype": "text/x-python",
      "name": "python",
      "nbconvert_exporter": "python",
      "pygments_lexer": "ipython3",
      "version": "3.8.2"
    }
  },
  "nbformat": 4,
  "nbformat_minor": 5
}